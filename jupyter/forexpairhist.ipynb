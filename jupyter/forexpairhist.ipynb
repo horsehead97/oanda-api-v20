{
 "cells": [
  {
   "cell_type": "markdown",
   "metadata": {
    "deletable": true,
    "editable": true
   },
   "source": [
    "[accounts](./accounts.ipynb) | [orders](./orders.ipynb) | [trades](./trades.ipynb) | [positions](./positions.ipynb) | [historical](./historical.ipynb) | [streams](./streams.ipynb) | [errors](./exceptions.ipynb)"
   ]
  },
  {
   "cell_type": "markdown",
   "metadata": {
    "deletable": true,
    "editable": true
   },
   "source": [
    "# Historical data\n",
    "\n",
    "OANDA provides access to historical data. The *oandapyV20* has a class to access this data: *oandapyV20.endpoints.instruments.InstrumentsCandles*.\n",
    "\n",
    "Lets give it a try and download some data for:\n",
    "  + instrument: EUR_USD\n",
    "  + granularity: H1\n",
    "  + from: 2017-01-01T00:00:00"
   ]
  },
  {
   "cell_type": "code",
   "execution_count": null,
   "metadata": {},
   "outputs": [],
   "source": [
    "import json\n",
    "import oandapyV20\n",
    "import oandapyV20.endpoints.instruments as instruments\n",
    "from exampleauth import exampleauth\n",
    "\n",
    "accountID, access_token = exampleauth.exampleAuth()\n",
    "client = oandapyV20.API(access_token=access_token)\n",
    "\n",
    "instrument = \"EUR_USD\"\n",
    "params = {\n",
    "    \"from\": \"2017-01-01T00:00:00Z\",\n",
    "    \"granularity\": \"H1\",\n",
    "    \"count\": 10,\n",
    "    \"price\":\"BA\",\n",
    "}\n",
    "r = instruments.InstrumentsCandles(instrument=instrument, params=params)\n",
    "response = client.request(r)\n",
    "print(\"Request: {}  #candles received: {}\".format(r, len(r.response.get('candles'))))\n",
    "print(json.dumps(response, indent=2))\n"
   ]
  },
  {
   "cell_type": "code",
   "execution_count": 57,
   "metadata": {},
   "outputs": [
    {
     "name": "stdout",
     "output_type": "stream",
     "text": [
      "<class 'datetime.datetime'>\n",
      "<class 'str'>\n",
      "Instruments/Forex/Oanda/AUD_NZD_D.csv 2022-02-10 22:00:00+00:00\n"
     ]
    },
    {
     "ename": "TypeError",
     "evalue": "str.replace() takes no keyword arguments",
     "output_type": "error",
     "traceback": [
      "\u001b[1;31m---------------------------------------------------------------------------\u001b[0m",
      "\u001b[1;31mTypeError\u001b[0m                                 Traceback (most recent call last)",
      "\u001b[1;32m~\\AppData\\Local\\Temp/ipykernel_11308/1209750312.py\u001b[0m in \u001b[0;36m<module>\u001b[1;34m\u001b[0m\n\u001b[0;32m     29\u001b[0m                 \u001b[0mprint\u001b[0m\u001b[1;33m(\u001b[0m\u001b[0mfileName\u001b[0m\u001b[1;33m,\u001b[0m \u001b[0mstart_datetime\u001b[0m\u001b[1;33m)\u001b[0m\u001b[1;33m\u001b[0m\u001b[1;33m\u001b[0m\u001b[0m\n\u001b[0;32m     30\u001b[0m         \u001b[1;31m#retreive the data from Oanda\u001b[0m\u001b[1;33m\u001b[0m\u001b[1;33m\u001b[0m\u001b[0m\n\u001b[1;32m---> 31\u001b[1;33m         \u001b[0mstart_unix\u001b[0m \u001b[1;33m=\u001b[0m \u001b[0mint\u001b[0m\u001b[1;33m(\u001b[0m\u001b[0mstart_datetime\u001b[0m\u001b[1;33m.\u001b[0m\u001b[0mreplace\u001b[0m\u001b[1;33m(\u001b[0m\u001b[0mtzinfo\u001b[0m\u001b[1;33m=\u001b[0m\u001b[0mtimezone\u001b[0m\u001b[1;33m.\u001b[0m\u001b[0mutc\u001b[0m\u001b[1;33m)\u001b[0m\u001b[1;33m.\u001b[0m\u001b[0mtimestamp\u001b[0m\u001b[1;33m(\u001b[0m\u001b[1;33m)\u001b[0m\u001b[1;33m)\u001b[0m\u001b[1;33m\u001b[0m\u001b[1;33m\u001b[0m\u001b[0m\n\u001b[0m\u001b[0;32m     32\u001b[0m \tparams = {\n\u001b[0;32m     33\u001b[0m         \u001b[1;34m\"from\"\u001b[0m\u001b[1;33m:\u001b[0m \u001b[0mstart_unix\u001b[0m\u001b[1;33m,\u001b[0m\u001b[1;33m\u001b[0m\u001b[1;33m\u001b[0m\u001b[0m\n",
      "\u001b[1;31mTypeError\u001b[0m: str.replace() takes no keyword arguments"
     ]
    }
   ],
   "source": [
    "import json\n",
    "import oandapyV20\n",
    "import oandapyV20.endpoints.instruments as instruments\n",
    "from exampleauth import exampleauth\n",
    "import pandas as pd\n",
    "import requests\n",
    "from datetime import timezone, datetime\n",
    "accountID, access_token = exampleauth.exampleAuth()\n",
    "client = oandapyV20.API(access_token=access_token)\n",
    "storageLocation = \"Instruments/Forex/Oanda/\"\n",
    "barTimeframe = \"D\" \n",
    "assetsToDownload = [\"AUDNZD\",\"AUDUSD\",\"AUDJPY\",\"EURCHF\",\"EURGBP\",\"EURJPY\",\"GBPCHF\",\"GBPJPY\",\"GBPUSD\",\"NZDUSD\",\"USDCAD\",\"USDCHF\",\"USDJPY\",\"CADJPY\",\"EURAUD\",\"CHFJPY\",\"EURCAD\",\"AUDCAD\",\"AUDCHF\",\"CADCHF\",\"EURNZD\",\"GBPAUD\",\"GBPCAD\",\"GBPNZD\",\"NZDCAD\",\"NZDCHF\",\"NZDJPY\",\"EURSGD\",\"USDSGD\",\"GBPSGD\",\"AUDSGD\",\"SGDJPY\",\"NZDSGD\",\"CADSGD\",\"CHFSGD\"]\n",
    "iteratorPos = 0 # Tracks position in list of symbols to download\n",
    "assetListLen = len(assetsToDownload)\n",
    "start_datetime = datetime(2017, 1, 1)\n",
    "#print('date:',start_datetime)\n",
    "while iteratorPos < assetListLen:\n",
    "\tinstrument = assetsToDownload[iteratorPos]\n",
    "\tinstrument= instrument[:3] + '_' + instrument[3:]\n",
    "\t#print(symbol+'_'+barTimeframe+'.csv')\n",
    "\titeratorPos += 1\n",
    "\tfileName=storageLocation+instrument+'_'+barTimeframe+'.csv'\n",
    "\tPath = os.path.isfile(fileName)\n",
    "\tprint(type(start_datetime))\n",
    "\tif Path==True:\n",
    "\t\toldDF=pd.read_csv(fileName)\n",
    "\t\tstart_datetime=(oldDF.iloc[-1,0])\n",
    "\t\tprint(type(start_datetime))\n",
    "\t\tprint(fileName, start_datetime)\n",
    "\t#retreive the data from Oanda\n",
    "\t#start_unix = int(start_datetime.replace(tzinfo=timezone.utc).timestamp())\n",
    "\tstart_unix=datetime.strptime(start_datetime, '%Y-%m-%dT%H:%M:%S.000000Z')\n",
    "\tparams = {\n",
    "    \t\"from\": start_unix,\n",
    "    \t\"granularity\": barTimeframe,\n",
    "    \t\"count\": 5000,\n",
    "\t}\n",
    "\tprint(instrument)\n",
    "\tr = instruments.InstrumentsCandles(instrument=instrument, params=params)\n",
    "\tclient.request(r)\n",
    "\tr.response['candles'][0]['mid']\n",
    "\tr.response['candles'][0]['time']\n",
    "\tr.response['candles'][0]['volume']\n",
    "\tdat = []\n",
    "\tfor oo in r.response['candles']:\n",
    "\t\tdat.append([oo['time'], oo['mid']['o'], oo['mid']['h'], oo['mid']['l'], oo['mid']['c'], oo['volume'], oo['complete']])\n",
    "\t\tdf = pd.DataFrame(dat)\n",
    "\t\tdf.columns = ['Time', 'Open', 'High', 'Low', 'Close', 'Volume', 'Complete']\n",
    "\t\t#print(\"DF ORIG:\",df)\n",
    "\t\t#Convert To Float\n",
    "\t\tdf[\"Time\"] = pd.to_datetime(df[\"Time\"], unit='ns')\n",
    "\t\tdf[\"Open\"] = pd.to_numeric(df[\"Open\"], downcast=\"float\")\n",
    "\t\tdf[\"High\"] = pd.to_numeric(df[\"High\"], downcast=\"float\")\n",
    "\t\tdf[\"Low\"] = pd.to_numeric(df[\"Low\"], downcast=\"float\")\n",
    "\t\tdf[\"Close\"] = pd.to_numeric(df[\"Close\"], downcast=\"float\")\n",
    "\t\tdf[\"Time\"] = pd.to_datetime(df[\"Time\"], unit='ns')\n",
    "\t\tincompletDF=df[~df[\"Complete\"]]\n",
    "\t\tdf=df.drop(['Complete'], axis=1)\n",
    "\t\t\n",
    "\t\t# Verifies if symbol file exists\n",
    "\tprint(\"DF after:\",df)\t\n",
    "\tif Path==True:\n",
    "\t\texclude=pd.read_csv(fileName)\n",
    "\t\tdf=df[~df.Time.isin(exclude.Time)]\n",
    "\t\tdf.to_csv(fileName, mode='a',index=False, header=False)\t\n",
    "\telse:\n",
    "\t\tdf.to_csv(fileName,index=False)\n",
    "\titeratorPos += 1\n",
    "\tbreak"
   ]
  },
  {
   "cell_type": "markdown",
   "metadata": {
    "deletable": true,
    "editable": true
   },
   "source": [
    "So, that is 9 records?\n",
    "... that can be fixed by including the parameter *includeFirst*, see the OANDA documentation for details."
   ]
  },
  {
   "cell_type": "code",
   "execution_count": null,
   "metadata": {
    "collapsed": false,
    "deletable": true,
    "editable": true
   },
   "outputs": [],
   "source": [
    "instrument = \"EUR_USD\"\n",
    "params = {\n",
    "    \"from\": \"2017-01-01T00:00:00Z\",\n",
    "    \"granularity\": \"H1\",\n",
    "    \"includeFirst\": True,\n",
    "    \"count\": 10,\n",
    "}\n",
    "r = instruments.InstrumentsCandles(instrument=instrument, params=params)\n",
    "response = client.request(r)\n",
    "print(\"Request: {}  #candles received: {}\".format(r, len(r.response.get('candles'))))\n",
    "print(json.dumps(response, indent=2))"
   ]
  },
  {
   "cell_type": "markdown",
   "metadata": {
    "deletable": true,
    "editable": true
   },
   "source": [
    "# Bulk history\n",
    "\n",
    "## InstrumentsCandles class\n",
    "\n",
    "It is likely that you want to retrieve more than 10 records. The OANDA docs say that the default number of records\n",
    "is 500, in case you do not specify. You can specify the number of records to retrieve by using *count*, with a maximum of 5000. The *InstrumentsCandles* class enables you to retrieve the records.\n",
    "\n",
    "## InstrumentsCandlesFactory\n",
    "\n",
    "Now if you would like to retrieve a lot of history, you have to make consecutive requests. To make this an easy process the *oandapyV20* library comes with a so called *factory* named *InstrumentsCandlesFactory*.\n",
    "\n",
    "Using this class you can retrieve all history of an instrument from a certain date. The *InstrumentsCandlesFactory* acts as a generator generating *InstrumentCandles* requests until all data is retrieved. The number of requests can be influenced by specifying *count*. Setting *count* to 5000 would generate a tenth of the requests vs. the default of 500.\n",
    "\n",
    "Back to our example: lets make sure we request a lot of data, so we set the *granularity* to *M5* and leave the date at 2017-01-01T00:00:00. The will retrieve all records from that date up to today, because we did not specify the *to* parameter. \n"
   ]
  },
  {
   "cell_type": "code",
   "execution_count": null,
   "metadata": {
    "collapsed": false,
    "deletable": true,
    "editable": true
   },
   "outputs": [],
   "source": [
    "import json\n",
    "import oandapyV20\n",
    "import oandapyV20.endpoints.instruments as instruments\n",
    "from oandapyV20.contrib.factories import InstrumentsCandlesFactory\n",
    "from exampleauth import exampleauth\n",
    "\n",
    "accountID, access_token = exampleauth.exampleAuth()\n",
    "client = oandapyV20.API(access_token=access_token)\n",
    "\n",
    "instrument = \"EUR_USD\"\n",
    "params = {\n",
    "    \"from\": \"2017-01-01T00:00:00Z\",\n",
    "    \"granularity\": \"M5\",\n",
    "}\n",
    "\n",
    "def cnv(r, h):\n",
    "    # get all candles from the response and write them as a record to the filehandle h\n",
    "    for candle in r.get('candles'):\n",
    "        ctime = candle.get('time')[0:19]\n",
    "        try:\n",
    "            rec = \"{time},{complete},{o},{h},{l},{c},{v}\".format(\n",
    "                time=ctime,\n",
    "                complete=candle['complete'],\n",
    "                o=candle['mid']['o'],\n",
    "                h=candle['mid']['h'],\n",
    "                l=candle['mid']['l'],\n",
    "                c=candle['mid']['c'],\n",
    "                v=candle['volume'],\n",
    "            )\n",
    "        except Exception as e:\n",
    "            print(e, r)\n",
    "        else:\n",
    "            h.write(rec+\"\\n\")\n",
    "\n",
    "datafile = \"/tmp/{}.{}.out\".format(instrument, params['granularity'])\n",
    "with open(datafile, \"w\") as O:\n",
    "    n = 0\n",
    "    for r in InstrumentsCandlesFactory(instrument=instrument, params=params):\n",
    "        rv = client.request(r)\n",
    "        cnt = len(r.response.get('candles'))\n",
    "        print(\"REQUEST: {} {} {}, received: {}\".format(r, r.__class__.__name__, r.params, cnt))\n",
    "        n += cnt\n",
    "        cnv(r.response, O)\n",
    "    print(\"Check the datafile: {} under /tmp!, it contains {} records\".format(datafile, n))"
   ]
  },
  {
   "cell_type": "markdown",
   "metadata": {
    "deletable": true,
    "editable": true
   },
   "source": [
    "## ... that was easy ...\n",
    "\n",
    "All request were made on the default of max. 500 records per request. With a granularity of *M5* this means that we have 288 records per day. The algorithm of the factory does not check on weekends or holidays. Therefore some request only return a part of the 500 requested records because there simply are no more records within the specified timespan.\n",
    "\n",
    "If you want to decrease the number of requests and increase the number of records returned for a request, just specify *count* as a number higher than 500 and up to max. 5000."
   ]
  }
 ],
 "metadata": {
  "kernelspec": {
   "display_name": "Python 3",
   "language": "python",
   "name": "python3"
  },
  "language_info": {
   "codemirror_mode": {
    "name": "ipython",
    "version": 3
   },
   "file_extension": ".py",
   "mimetype": "text/x-python",
   "name": "python",
   "nbconvert_exporter": "python",
   "pygments_lexer": "ipython3",
   "version": "3.10.1"
  }
 },
 "nbformat": 4,
 "nbformat_minor": 2
}
